{
 "metadata": {
  "language_info": {
   "codemirror_mode": {
    "name": "ipython",
    "version": 3
   },
   "file_extension": ".py",
   "mimetype": "text/x-python",
   "name": "python",
   "nbconvert_exporter": "python",
   "pygments_lexer": "ipython3",
   "version": "3.7.9-final"
  },
  "orig_nbformat": 2,
  "kernelspec": {
   "name": "python3",
   "display_name": "Python 3.7.9 64-bit ('tf': conda)",
   "metadata": {
    "interpreter": {
     "hash": "1ff1b6660308b923da3280fd8eba72688423f35a550bb6031e3f908147390438"
    }
   }
  }
 },
 "nbformat": 4,
 "nbformat_minor": 2,
 "cells": [
  {
   "source": [
    "# 二分排序\n",
    "针对有序数据集arr，待查找数据value。每次对比value与arr的中间元素mid，将待查找区间缩小一半，直到找到要查找元素，或者区间缩小为0。"
   ],
   "cell_type": "markdown",
   "metadata": {}
  },
  {
   "source": [
    "![](../imgs/2/1570440501975.png)"
   ],
   "cell_type": "markdown",
   "metadata": {}
  },
  {
   "cell_type": "code",
   "execution_count": 32,
   "metadata": {},
   "outputs": [
    {
     "output_type": "stream",
     "name": "stdout",
     "text": [
      "-1\n"
     ]
    }
   ],
   "source": [
    "def binary_search(arr: list, value) -> int:\n",
    "    low, high = 0, len(arr) - 1\n",
    "    # 位运算>>1，相当于除以2\n",
    "    while low<=high:\n",
    "        mid = low + (high - low >> 1)\n",
    "        if arr[mid] > value:\n",
    "            high = mid - 1\n",
    "        elif arr[mid] < value:\n",
    "            low = mid + 1\n",
    "        else:\n",
    "            return mid\n",
    "    return -1\n",
    "\n",
    "\n",
    "a = [1,3,5,6,7,9,10,11,14,15,17,18,20,22,24,25,27,28,31,34,35,36,37,38,40,42,43,46,50]\n",
    "b = 99\n",
    "print(binary_search(a, b))\n",
    "        "
   ]
  },
  {
   "cell_type": "code",
   "execution_count": null,
   "metadata": {},
   "outputs": [],
   "source": []
  },
  {
   "cell_type": "code",
   "execution_count": null,
   "metadata": {},
   "outputs": [],
   "source": []
  },
  {
   "cell_type": "code",
   "execution_count": null,
   "metadata": {},
   "outputs": [],
   "source": []
  },
  {
   "cell_type": "code",
   "execution_count": null,
   "metadata": {},
   "outputs": [],
   "source": []
  },
  {
   "cell_type": "code",
   "execution_count": null,
   "metadata": {},
   "outputs": [],
   "source": []
  },
  {
   "cell_type": "code",
   "execution_count": null,
   "metadata": {},
   "outputs": [],
   "source": []
  }
 ]
}