{
 "metadata": {
  "language_info": {
   "codemirror_mode": {
    "name": "ipython",
    "version": 3
   },
   "file_extension": ".py",
   "mimetype": "text/x-python",
   "name": "python",
   "nbconvert_exporter": "python",
   "pygments_lexer": "ipython3",
   "version": "3.7.9-final"
  },
  "orig_nbformat": 2,
  "kernelspec": {
   "name": "python3",
   "display_name": "Python 3.7.9 64-bit ('tf': conda)",
   "metadata": {
    "interpreter": {
     "hash": "1ff1b6660308b923da3280fd8eba72688423f35a550bb6031e3f908147390438"
    }
   }
  }
 },
 "nbformat": 4,
 "nbformat_minor": 2,
 "cells": [
  {
   "source": [
    "# 归并排序\n",
    "归并排序（Merge Sort）的核心思想，如果要排序一个数组，先把数组从中间分成前后两部分，然后对前后两部分分别排序，再将排好序的两部分合并在一起，这样整个数组就都有序了。   \n",
    "![](../imgs/2/1570434553802.png)"
   ],
   "cell_type": "markdown",
   "metadata": {}
  },
  {
   "source": [
    "merge函数的实现方法   \n",
    "![](../imgs/2/1570434823959.png)"
   ],
   "cell_type": "markdown",
   "metadata": {}
  },
  {
   "cell_type": "code",
   "execution_count": 7,
   "metadata": {},
   "outputs": [
    {
     "output_type": "execute_result",
     "data": {
      "text/plain": [
       "[0, 1, 3, 3, 4, 4, 5, 6, 7, 8, 9]"
      ]
     },
     "metadata": {},
     "execution_count": 7
    }
   ],
   "source": [
    "def merge_sort(arr: list, p: int, r: int):\n",
    "    if p >= r:\n",
    "        return\n",
    "    q = (p + r) // 2\n",
    "    merge_sort(arr, p, q)\n",
    "    merge_sort(arr, q+1, r)\n",
    "    merge(arr, p, q, r)\n",
    "\n",
    "def merge(arr: list, p: int, q: int, r: int):\n",
    "    tmp = [0] * (r - p + 1)\n",
    "    i, j, k = p, q + 1, 0\n",
    "    while i <= q and j <= r:\n",
    "        if arr[i] <= arr[j]:\n",
    "            tmp[k] = arr[i]\n",
    "            i += 1\n",
    "        else:\n",
    "            tmp[k] = arr[j]\n",
    "            j += 1\n",
    "        k += 1\n",
    "    if i > q:\n",
    "        tmp[k:] = arr[j:r+1]\n",
    "    if j > r:\n",
    "        tmp[k:] = arr[i:q+1]\n",
    "    arr[p: r+1] = tmp\n",
    "\n",
    "a = [3,1,5,6,8,4,3,4,9,0,7]\n",
    "merge_sort(a, 0, len(a) - 1)\n",
    "a\n"
   ]
  },
  {
   "cell_type": "code",
   "execution_count": null,
   "metadata": {},
   "outputs": [],
   "source": []
  },
  {
   "cell_type": "code",
   "execution_count": null,
   "metadata": {},
   "outputs": [],
   "source": []
  },
  {
   "cell_type": "code",
   "execution_count": null,
   "metadata": {},
   "outputs": [],
   "source": []
  },
  {
   "cell_type": "code",
   "execution_count": null,
   "metadata": {},
   "outputs": [],
   "source": []
  },
  {
   "cell_type": "code",
   "execution_count": null,
   "metadata": {},
   "outputs": [],
   "source": []
  },
  {
   "cell_type": "code",
   "execution_count": null,
   "metadata": {},
   "outputs": [],
   "source": []
  },
  {
   "cell_type": "code",
   "execution_count": null,
   "metadata": {},
   "outputs": [],
   "source": []
  },
  {
   "cell_type": "code",
   "execution_count": null,
   "metadata": {},
   "outputs": [],
   "source": []
  },
  {
   "cell_type": "code",
   "execution_count": null,
   "metadata": {},
   "outputs": [],
   "source": []
  }
 ]
}