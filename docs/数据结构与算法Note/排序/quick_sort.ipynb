{
 "metadata": {
  "language_info": {
   "codemirror_mode": {
    "name": "ipython",
    "version": 3
   },
   "file_extension": ".py",
   "mimetype": "text/x-python",
   "name": "python",
   "nbconvert_exporter": "python",
   "pygments_lexer": "ipython3",
   "version": "3.7.9-final"
  },
  "orig_nbformat": 2,
  "kernelspec": {
   "name": "python3",
   "display_name": "Python 3.7.9 64-bit ('tf': conda)",
   "metadata": {
    "interpreter": {
     "hash": "1ff1b6660308b923da3280fd8eba72688423f35a550bb6031e3f908147390438"
    }
   }
  }
 },
 "nbformat": 4,
 "nbformat_minor": 2,
 "cells": [
  {
   "source": [
    "#  快速排序\n",
    "遍历 p 到 r 之间的数据，将小于 pivot 的放到左边，将大于 pivot 的放到右边，将 pivot 放到中间。这样数组 p 到 r 之间的数据就被分成了三个部分，前面 p 到 q-1 之间都是小于 pivot 的，中间是 pivot，后面的 q+1 到 r 之间是大于 pivot 的。   \n",
    "![](../imgs/2/1570439501672.png)"
   ],
   "cell_type": "markdown",
   "metadata": {}
  },
  {
   "source": [
    "partition分区函数的实现方法     \n",
    "![](../imgs/2/1570439590377.png)"
   ],
   "cell_type": "markdown",
   "metadata": {}
  },
  {
   "cell_type": "code",
   "execution_count": 12,
   "metadata": {},
   "outputs": [
    {
     "output_type": "execute_result",
     "data": {
      "text/plain": [
       "[0, 1, 3, 3, 4, 4, 5, 6, 7, 8, 9]"
      ]
     },
     "metadata": {},
     "execution_count": 12
    }
   ],
   "source": [
    "def quick_sort(arr: list, p: int, r: int):\n",
    "    if p >= r:\n",
    "        return\n",
    "    q = partition(arr, p, r)\n",
    "    quick_sort(arr, p, q-1)\n",
    "    quick_sort(arr, q+1, r)\n",
    "\n",
    "def partition(arr: list, p: int, r: int):\n",
    "    pivot = arr[r]\n",
    "    i = j = p\n",
    "    # [p, i-1]  [i, r]\n",
    "    while j < r:\n",
    "        if arr[j] < pivot and j != i:\n",
    "            arr[i], arr[j] = arr[j], arr[i]\n",
    "        if arr[i] < pivot:\n",
    "            i += 1\n",
    "        j += 1\n",
    "    arr[r], arr[i] = arr[i], arr[r]\n",
    "    return i\n",
    "\n",
    "a = [3,1,5,6,8,4,3,4,9,0,7]\n",
    "quick_sort(a, 0, len(a) - 1)\n",
    "a\n"
   ]
  },
  {
   "cell_type": "code",
   "execution_count": null,
   "metadata": {},
   "outputs": [],
   "source": []
  },
  {
   "cell_type": "code",
   "execution_count": null,
   "metadata": {},
   "outputs": [],
   "source": []
  },
  {
   "cell_type": "code",
   "execution_count": null,
   "metadata": {},
   "outputs": [],
   "source": []
  },
  {
   "cell_type": "code",
   "execution_count": null,
   "metadata": {},
   "outputs": [],
   "source": []
  },
  {
   "cell_type": "code",
   "execution_count": null,
   "metadata": {},
   "outputs": [],
   "source": []
  },
  {
   "cell_type": "code",
   "execution_count": null,
   "metadata": {},
   "outputs": [],
   "source": []
  },
  {
   "cell_type": "code",
   "execution_count": null,
   "metadata": {},
   "outputs": [],
   "source": []
  },
  {
   "cell_type": "code",
   "execution_count": null,
   "metadata": {},
   "outputs": [],
   "source": []
  },
  {
   "cell_type": "code",
   "execution_count": null,
   "metadata": {},
   "outputs": [],
   "source": []
  }
 ]
}